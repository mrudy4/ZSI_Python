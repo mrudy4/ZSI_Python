{
 "cells": [
  {
   "cell_type": "code",
   "execution_count": 1,
   "id": "71fbc772",
   "metadata": {},
   "outputs": [
    {
     "name": "stdout",
     "output_type": "stream",
     "text": [
      "What's your name?\n",
      "Adam\n",
      "Adam Adam Adam Adam Adam Adam Adam \n",
      "Adam\n",
      "Adam\n",
      "Adam\n",
      "Adam\n",
      "Adam\n"
     ]
    }
   ],
   "source": [
    "#Zadanie 1\n",
    "import numpy as np\n",
    "\n",
    "print(\"What's your name?\")\n",
    "name = input()\n",
    "\n",
    "result = (name + \" \") * 7\n",
    "print(result)\n",
    "\n",
    "for _ in range(5):\n",
    "    print(name)\n",
    "    "
   ]
  },
  {
   "cell_type": "code",
   "execution_count": 13,
   "id": "601d5f5a",
   "metadata": {},
   "outputs": [
    {
     "name": "stdout",
     "output_type": "stream",
     "text": [
      "[10, 21, 9, 33, 44, 4, 66, 77, 88, 99]\n",
      "*********\n",
      "[21, 33, 44, 66, 77, 88, 99]\n",
      "*********\n",
      "21\n",
      "33\n",
      "44\n",
      "66\n",
      "77\n",
      "88\n",
      "99\n",
      "*********\n",
      "[21, 33, 44, 66, 77, 88, 99]\n"
     ]
    }
   ],
   "source": [
    "#Zadanie 2\n",
    "lista = [10,21,9,33,44,4,66,77,88,99]\n",
    "print(lista)\n",
    "print(\"*********\")\n",
    "filtered = filter(lambda a: a > 10, lista)\n",
    "print(list(filtered))\n",
    "print(\"*********\")\n",
    "for num in lista:\n",
    "    if(num>10):\n",
    "        print(num)\n",
    "print(\"*********\")\n",
    "lista2 = [lista2 for lista2 in lista if lista2 > 10]\n",
    "print(lista2)\n"
   ]
  },
  {
   "cell_type": "code",
   "execution_count": 14,
   "id": "1bcbf2db",
   "metadata": {},
   "outputs": [
    {
     "name": "stdout",
     "output_type": "stream",
     "text": [
      "[63, 84, 105, 126, 147]\n"
     ]
    }
   ],
   "source": [
    "#Zadanie 3\n",
    "lista3 = list(range(50, 151))\n",
    "podzielnie = [num for num in lista3 if num % 3 == 0 and num % 7 == 0]\n",
    "print(podzielnie)\n",
    "\n"
   ]
  },
  {
   "cell_type": "code",
   "execution_count": 7,
   "id": "74bbbd6d",
   "metadata": {},
   "outputs": [
    {
     "name": "stdout",
     "output_type": "stream",
     "text": [
      "['Warszawa', 'Berlin', 'Paryż', 'Madryt', 'Rzym', 'Canberra', 'Wiedeń', 'Buenos Aires', 'Kair', 'Ateny']\n",
      "*********\n",
      "['Grecja']\n",
      "*********\n",
      "['Egipt']\n",
      "*********\n"
     ]
    }
   ],
   "source": [
    "#Zadanie 4\n",
    "slownik = {\n",
    "    \"Polska\": \"Warszawa\",\n",
    "    \"Niemcy\": \"Berlin\",\n",
    "    \"Francja\": \"Paryż\",\n",
    "    \"Hiszpania\": \"Madryt\",\n",
    "    \"Włochy\": \"Rzym\",\n",
    "    \"Australia\": \"Canberra\",\n",
    "    \"Austria\": \"Wiedeń\",\n",
    "    \"Argentyna\": \"Buenos Aires\",\n",
    "    \"Egipt\": \"Kair\",\n",
    "    \"Grecja\": \"Ateny\"\n",
    "}\n",
    "\n",
    "print(list(slownik.values()))\n",
    "print(\"*********\")\n",
    "\n",
    "print([kraj for kraj, stolica in slownik.items() if stolica.startswith(\"A\")])\n",
    "print(\"*********\")\n",
    "\n",
    "print([kraj for kraj in slownik.keys() if \"E\" in kraj])\n",
    "print(\"*********\")\n",
    "\n"
   ]
  },
  {
   "cell_type": "code",
   "execution_count": 25,
   "id": "6f21d4d9",
   "metadata": {},
   "outputs": [
    {
     "name": "stdout",
     "output_type": "stream",
     "text": [
      "Najmniejsza liczba: 1\n",
      "Największa liczba: 20\n"
     ]
    }
   ],
   "source": [
    "#Zadanie 5\n",
    "int_numbers = [5, 2, 8, 10, 3, 15, 1, 20, 7, 6]\n",
    "print(\"Najmniejsza liczba:\", min(int_numbers))\n",
    "print(\"Największa liczba:\", max(int_numbers))"
   ]
  },
  {
   "cell_type": "code",
   "execution_count": 30,
   "id": "1461544f",
   "metadata": {},
   "outputs": [
    {
     "name": "stdout",
     "output_type": "stream",
     "text": [
      "[0.18961394 0.16150698 0.4594273  0.47933666 0.35686752 0.14802325\n",
      " 0.28146356 0.87236886 0.65369347 0.10130076 0.93731156 0.3875477\n",
      " 0.60791881 0.45013699 0.76489068 0.16447109 0.75024907 0.49620118\n",
      " 0.91414671 0.36842723]\n",
      "*********\n",
      "Srednia:  0.47724516604175643\n",
      "Max:  0.9373115619828274\n",
      "Min:  0.10130075657431514\n"
     ]
    }
   ],
   "source": [
    "#Zadanie 6\n",
    "losowane = np.random.rand(20)\n",
    "print(losowane)\n",
    "print(\"*********\")\n",
    "print(\"Srednia: \", np.mean(losowane))\n",
    "print(\"Max: \", np.max(losowane))\n",
    "print(\"Min: \", np.min(losowane))"
   ]
  },
  {
   "cell_type": "code",
   "execution_count": 36,
   "id": "1c5ccd1b",
   "metadata": {
    "scrolled": true
   },
   "outputs": [
    {
     "name": "stdout",
     "output_type": "stream",
     "text": [
      "[[ 9 13 13 13  8 13 11 12 10 10 11 11  7 12 14  5 13 12  5 10]\n",
      " [10 11  8 12  7  7  7  9  9 13  7 14 13 12 14  9 12  9  7 15]\n",
      " [10  5  6  8 10 15  6 13  6 10 13  6  8  9 15 11 12  9  8  9]\n",
      " [15  7  8 14  6 10  5  7 12  5 15  5 11  8  6  8 15  6  5 15]\n",
      " [ 9 11  7  5 11  9 10  9  7 12  7  8 11 10 11  6 13  9 10 15]\n",
      " [10 13  5 14 15 14  6 15  8 15  9 11 14  6 15 10  9  6  5 14]\n",
      " [14 10  7  8  8 12 15 14  9 15  9  6 10 14 12 11 13  9  5 14]\n",
      " [ 7 13 15 10 15 15  5 14  5  6 12 10  6 12 14 15  5 14 12 10]\n",
      " [12 12  5 11  6  5  9  8 15  5  7 14 15 15 13 15 12 12 11  6]\n",
      " [14 11 13  7 11  8 11  7 15  6  9  5 13  7  6  7 10 10 11 12]]\n",
      "*********\n",
      "Średnie wartości w wierszach:  [10.6  10.25  9.45  9.15  9.5  10.7  10.75 10.75 10.4   9.65]\n",
      "Max wartoścu w wierszach:  [14 15 15 15 15 15 15 15 15 15]\n",
      "Pozycje max wartości w wierszach:  [14 19  5  0 19  4  6  2  8  8]\n"
     ]
    }
   ],
   "source": [
    "#Zadanie 7\n",
    "tabelka = np.random.randint(5, 16, size=(10, 20))\n",
    "print(tabelka)\n",
    "print(\"*********\")\n",
    "\n",
    "print(\"Średnie wartości w wierszach: \", np.mean(tabelka, axis=1))\n",
    "print(\"Max wartoścu w wierszach: \", np.max(tabelka, axis=1))\n",
    "print(\"Pozycje max wartości w wierszach: \", np.argmax(tabelka, axis=1))\n"
   ]
  },
  {
   "cell_type": "code",
   "execution_count": 37,
   "id": "b8ba9a78",
   "metadata": {},
   "outputs": [
    {
     "name": "stdout",
     "output_type": "stream",
     "text": [
      "[3, 6, 10, 15]\n"
     ]
    }
   ],
   "source": [
    "#Zadanie 8\n",
    "def dodatnie(numbers):\n",
    "    return [num for num in numbers if num > 0]\n",
    "\n",
    "# Test funkcji\n",
    "print(dodatnie([-5, 3, 0, -2, 6, -8, 10, 15]))"
   ]
  },
  {
   "cell_type": "code",
   "execution_count": 6,
   "id": "efdd1c89",
   "metadata": {},
   "outputs": [
    {
     "name": "stdout",
     "output_type": "stream",
     "text": [
      "Liczba liter:  134\n"
     ]
    }
   ],
   "source": [
    "#Zadanie 9\n",
    "def liczbaLiter(slownik):\n",
    "    iloscLiter = sum(len(kraj) + len(stolica) for kraj, stolica in slownik.items())\n",
    "    return iloscLiter\n",
    "\n",
    "# Test funkcji\n",
    "print(\"Liczba liter: \", liczbaLiter(slownik))"
   ]
  },
  {
   "cell_type": "code",
   "execution_count": null,
   "id": "7b11801f",
   "metadata": {},
   "outputs": [],
   "source": []
  }
 ],
 "metadata": {
  "kernelspec": {
   "display_name": "Python 3 (ipykernel)",
   "language": "python",
   "name": "python3"
  },
  "language_info": {
   "codemirror_mode": {
    "name": "ipython",
    "version": 3
   },
   "file_extension": ".py",
   "mimetype": "text/x-python",
   "name": "python",
   "nbconvert_exporter": "python",
   "pygments_lexer": "ipython3",
   "version": "3.9.20"
  }
 },
 "nbformat": 4,
 "nbformat_minor": 5
}
