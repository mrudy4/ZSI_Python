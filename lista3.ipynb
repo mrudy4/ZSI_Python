{
 "cells": [
  {
   "cell_type": "code",
   "execution_count": 1,
   "id": "3acea323-6c7f-4f7a-a17b-0f0b8283df5f",
   "metadata": {},
   "outputs": [],
   "source": [
    "from sklearn.datasets import load_diabetes\n",
    "import pandas as pd\n",
    "import matplotlib.pyplot as plt"
   ]
  },
  {
   "cell_type": "code",
   "execution_count": 2,
   "id": "2c42d419-7cd1-4b77-ad8e-e2987bb7c41c",
   "metadata": {},
   "outputs": [],
   "source": [
    "#zad1.1\n",
    "diabetes = load_diabetes(as_frame=True)"
   ]
  },
  {
   "cell_type": "code",
   "execution_count": 3,
   "id": "7b18ab23-71b3-4ae1-ba21-1c99b778480c",
   "metadata": {},
   "outputs": [],
   "source": [
    "df1 = pd.DataFrame(data=diabetes.data, columns=diabetes.feature_names)"
   ]
  },
  {
   "cell_type": "code",
   "execution_count": 4,
   "id": "e7fd5586-57be-44e1-854d-c145fafc5d99",
   "metadata": {},
   "outputs": [
    {
     "name": "stdout",
     "output_type": "stream",
     "text": [
      "Index(['age', 'sex', 'bmi', 'bp', 's1', 's2', 's3', 's4', 's5', 's6'], dtype='object')\n",
      "(442, 10)\n"
     ]
    }
   ],
   "source": [
    "#zad1.2\n",
    "print(df1.columns)\n",
    "print(df1.shape)"
   ]
  },
  {
   "cell_type": "code",
   "execution_count": 5,
   "id": "a769f347-d4a0-447d-a934-c2d3630aa5ba",
   "metadata": {},
   "outputs": [
    {
     "name": "stdout",
     "output_type": "stream",
     "text": [
      "Ilość przebadanych pacjentów: 442\n"
     ]
    }
   ],
   "source": [
    "#zad1.3\n",
    "print(\"Ilość przebadanych pacjentów:\", len(df1))"
   ]
  },
  {
   "cell_type": "code",
   "execution_count": 6,
   "id": "e5302aef-9b56-4b02-96d7-2a7bb2a3c582",
   "metadata": {},
   "outputs": [
    {
     "data": {
      "text/plain": [
       "Text(0.5, 1.0, 'Age histogram')"
      ]
     },
     "execution_count": 6,
     "metadata": {},
     "output_type": "execute_result"
    },
    {
     "data": {
      "image/png": "[encoded data removed]",
      "text/plain": [
       "<Figure size 640x480 with 1 Axes>"
      ]
     },
     "metadata": {},
     "output_type": "display_data"
    }
   ],
   "source": [
    "#zad1.4\n",
    "df1['age'].hist()\n",
    "#plt.xlabel('')\n",
    "plt.ylabel('Age')\n",
    "plt.title('Age histogram')\n"
   ]
  },
  {
   "cell_type": "code",
   "execution_count": 7,
   "id": "4df653da-c878-411a-9c08-863f415a6fe7",
   "metadata": {},
   "outputs": [
    {
     "name": "stdout",
     "output_type": "stream",
     "text": [
      "Index(['sepal length (cm)', 'sepal width (cm)', 'petal length (cm)',\n",
      "       'petal width (cm)'],\n",
      "      dtype='object')\n"
     ]
    }
   ],
   "source": [
    "#zad2.1 ; 2.2\n",
    "from sklearn.datasets import load_iris\n",
    "iris = load_iris()\n",
    "df2 = pd.DataFrame(data=iris.data, columns=iris.feature_names)\n",
    "print(df2.columns)"
   ]
  },
  {
   "cell_type": "code",
   "execution_count": 8,
   "id": "c706aa4e-1542-477c-9b94-2cf65b761e29",
   "metadata": {},
   "outputs": [
    {
     "name": "stdout",
     "output_type": "stream",
     "text": [
      "     sepal length (cm)  sepal width (cm)  petal length (cm)  petal width (cm)\n",
      "0                  5.1               3.5                1.4               0.2\n",
      "1                  4.9               3.0                1.4               0.2\n",
      "2                  4.7               3.2                1.3               0.2\n",
      "3                  4.6               3.1                1.5               0.2\n",
      "4                  5.0               3.6                1.4               0.2\n",
      "..                 ...               ...                ...               ...\n",
      "145                6.7               3.0                5.2               2.3\n",
      "146                6.3               2.5                5.0               1.9\n",
      "147                6.5               3.0                5.2               2.0\n",
      "148                6.2               3.4                5.4               2.3\n",
      "149                5.9               3.0                5.1               1.8\n",
      "\n",
      "[150 rows x 4 columns]\n",
      "<class 'sklearn.utils._bunch.Bunch'>\n",
      "Badane gatunki: ['setosa' 'versicolor' 'virginica']\n",
      "Ilość badanych gatunków: 3\n"
     ]
    }
   ],
   "source": [
    "#zad2.3\n",
    "print(df2)\n",
    "from sklearn.datasets import load_iris\n",
    "iris = load_iris(as_frame=True)\n",
    "print(type(iris))\n",
    "\n",
    "print('Badane gatunki:',iris.target_names)\n",
    "print('Ilość badanych gatunków:',len(iris.target_names))\n"
   ]
  },
  {
   "cell_type": "code",
   "execution_count": 9,
   "id": "70e24dd3-1f64-47ae-ba89-82421c43a3b8",
   "metadata": {},
   "outputs": [
    {
     "name": "stdout",
     "output_type": "stream",
     "text": [
      "{0: 50, 1: 50, 2: 50}\n"
     ]
    }
   ],
   "source": [
    "#zad2.4\n",
    "print(iris.target.value_counts().to_dict())"
   ]
  },
  {
   "cell_type": "code",
   "execution_count": 10,
   "id": "9a73dfef-807a-449f-867d-8a5b5767e4eb",
   "metadata": {},
   "outputs": [],
   "source": [
    "#zad3\n",
    "from sklearn.datasets import make_classification\n",
    "binary_class_sample, binary_class_label = make_classification(n_samples=500, n_features=5, n_classes=2, random_state=1)\n"
   ]
  },
  {
   "cell_type": "code",
   "execution_count": 11,
   "id": "30375235-f315-4e6e-a5ba-51dc3adcb62f",
   "metadata": {},
   "outputs": [
    {
     "name": "stdout",
     "output_type": "stream",
     "text": [
      "(1000, 10)\n"
     ]
    }
   ],
   "source": [
    "#zad4\n",
    "five_class_sample, five_class_label = make_classification(n_samples=1000, n_features=10, n_classes=5,n_informative=5, random_state=1)\n",
    "print(five_class_sample.shape)"
   ]
  },
  {
   "cell_type": "code",
   "execution_count": 12,
   "id": "e4a3a982-7ebe-447a-99a1-d8c877885936",
   "metadata": {},
   "outputs": [
    {
     "name": "stdout",
     "output_type": "stream",
     "text": [
      "(400, 4)\n"
     ]
    }
   ],
   "source": [
    "#zad5\n",
    "from sklearn.datasets import make_regression\n",
    "reg_data_400, reg_target_400 = make_regression(n_samples=400, n_features=4, noise=0.1, random_state=1)\n",
    "print(reg_data_400.shape)"
   ]
  },
  {
   "cell_type": "code",
   "execution_count": 13,
   "id": "fddaf280-87bc-4f82-a2a1-cfd0cd5f2a6c",
   "metadata": {},
   "outputs": [
    {
     "name": "stdout",
     "output_type": "stream",
     "text": [
      "(600, 6)\n"
     ]
    }
   ],
   "source": [
    "#zad6\n",
    "reg_data_600, reg_target_600 = make_regression(n_samples=600, n_features=6, noise=0.1, random_state=1)\n",
    "print(reg_data_600.shape)"
   ]
  },
  {
   "cell_type": "code",
   "execution_count": 14,
   "id": "88ff714a-746a-454a-8009-ba2627d9e62f",
   "metadata": {},
   "outputs": [
    {
     "name": "stdout",
     "output_type": "stream",
     "text": [
      "          age       sex       bmi        bp        s1        s2        s3  \\\n",
      "0    0.045341 -0.044642 -0.006206 -0.015999  0.125019  0.125198  0.019187   \n",
      "1    0.092564 -0.044642  0.036907  0.021872 -0.024960 -0.016658  0.000779   \n",
      "2    0.063504  0.050680 -0.004050 -0.012556  0.103003  0.048790  0.056003   \n",
      "3    0.096197 -0.044642  0.051996  0.079265  0.054845  0.036577 -0.076536   \n",
      "4    0.012648  0.050680 -0.020218 -0.002228  0.038334  0.053174 -0.006584   \n",
      "..        ...       ...       ...       ...       ...       ...       ...   \n",
      "245 -0.070900  0.050680 -0.075186 -0.040099 -0.051103 -0.015092 -0.039719   \n",
      "246  0.052606  0.050680 -0.009439  0.049415  0.050717 -0.019163 -0.013948   \n",
      "247 -0.089063 -0.044642 -0.041774 -0.019442 -0.066239 -0.074277  0.008142   \n",
      "248  0.009016 -0.044642  0.016428  0.004658  0.009439  0.010586 -0.028674   \n",
      "249  0.048974  0.050680  0.088642  0.087287  0.035582  0.021546 -0.024993   \n",
      "\n",
      "           s4        s5        s6  \n",
      "0    0.034309  0.032432 -0.005220  \n",
      "1   -0.039493 -0.022517 -0.021788  \n",
      "2   -0.002592  0.084492 -0.017646  \n",
      "3    0.141322  0.098648  0.061054  \n",
      "4    0.034309 -0.005142 -0.009362  \n",
      "..        ...       ...       ...  \n",
      "245 -0.002592 -0.096435 -0.034215  \n",
      "246  0.034309  0.119340 -0.017646  \n",
      "247 -0.039493  0.001148 -0.030072  \n",
      "248  0.034309  0.038968  0.119043  \n",
      "249  0.034309  0.066051  0.131470  \n",
      "\n",
      "[250 rows x 10 columns]\n",
      "          age       sex       bmi        bp        s1        s2        s3  \\\n",
      "0    0.067136 -0.044642  0.056307  0.073515 -0.013953 -0.039205 -0.032356   \n",
      "1   -0.052738  0.050680  0.098342  0.087287  0.060349  0.048790 -0.058127   \n",
      "2    0.005383 -0.044642  0.059541 -0.056177  0.024574  0.052861 -0.043401   \n",
      "3    0.081666 -0.044642  0.033673  0.008101  0.052093  0.056619 -0.017629   \n",
      "4    0.030811  0.050680  0.056307  0.076958  0.049341 -0.012274 -0.036038   \n",
      "..        ...       ...       ...       ...       ...       ...       ...   \n",
      "187  0.041708  0.050680  0.019662  0.059744 -0.005697 -0.002566 -0.028674   \n",
      "188 -0.005515  0.050680 -0.015906 -0.067642  0.049341  0.079165 -0.028674   \n",
      "189  0.041708  0.050680 -0.015906  0.017293 -0.037344 -0.013840 -0.024993   \n",
      "190 -0.045472 -0.044642  0.039062  0.001215  0.016318  0.015283 -0.028674   \n",
      "191 -0.045472 -0.044642 -0.073030 -0.081413  0.083740  0.027809  0.173816   \n",
      "\n",
      "           s4        s5        s6  \n",
      "0   -0.002592  0.075741  0.036201  \n",
      "1    0.108111  0.084492  0.040343  \n",
      "2    0.050914 -0.004222 -0.030072  \n",
      "3    0.034309  0.034866  0.069338  \n",
      "4    0.071210  0.120051  0.090049  \n",
      "..        ...       ...       ...  \n",
      "187 -0.002592  0.031193  0.007207  \n",
      "188  0.034309 -0.018114  0.044485  \n",
      "189 -0.011080 -0.046883  0.015491  \n",
      "190  0.026560  0.044529 -0.025930  \n",
      "191 -0.039493 -0.004222  0.003064  \n",
      "\n",
      "[192 rows x 10 columns]\n"
     ]
    }
   ],
   "source": [
    "#zad7\n",
    "diabetes_250 = df1.sample(250, random_state=42)\n",
    "diabetes_250 = diabetes_250.reset_index(drop=True)\n",
    "#print(diabetes_250.shape)\n",
    "print(diabetes_250)\n",
    "\n",
    "diabetes_rest = df1.drop(index=diabetes_250.index)\n",
    "diabetes_rest = diabetes_rest.reset_index(drop=True)\n",
    "#print(rest.shape)\n",
    "print(diabetes_rest)"
   ]
  },
  {
   "cell_type": "code",
   "execution_count": 15,
   "id": "38bfdf86-4bc2-4413-a2a5-900350dcf8dd",
   "metadata": {},
   "outputs": [
    {
     "data": {
      "text/plain": [
       "'\\nNumber of Instances:\\n442\\n\\nNumber of Attributes:\\nFirst 10 columns are numeric predictive values\\n\\nTarget:\\nColumn 11 is a quantitative measure of disease progression one year after baseline\\n\\nAttribute Information:\\nage age in years\\n\\nsex\\n\\nbmi body mass index\\n\\nbp average blood pressure\\n\\ns1 tc, total serum cholesterol\\n\\ns2 ldl, low-density lipoproteins\\n\\ns3 hdl, high-density lipoproteins\\n\\ns4 tch, total cholesterol / HDL\\n\\ns5 ltg, possibly log of serum triglycerides level\\n\\ns6 glu, blood sugar level\\n'"
      ]
     },
     "execution_count": 15,
     "metadata": {},
     "output_type": "execute_result"
    }
   ],
   "source": [
    "'''\n",
    "Number of Instances:\n",
    "442\n",
    "\n",
    "Number of Attributes:\n",
    "First 10 columns are numeric predictive values\n",
    "\n",
    "Target:\n",
    "Column 11 is a quantitative measure of disease progression one year after baseline\n",
    "\n",
    "Attribute Information:\n",
    "age age in years\n",
    "\n",
    "sex\n",
    "\n",
    "bmi body mass index\n",
    "\n",
    "bp average blood pressure\n",
    "\n",
    "s1 tc, total serum cholesterol\n",
    "\n",
    "s2 ldl, low-density lipoproteins\n",
    "\n",
    "s3 hdl, high-density lipoproteins\n",
    "\n",
    "s4 tch, total cholesterol / HDL\n",
    "\n",
    "s5 ltg, possibly log of serum triglycerides level\n",
    "\n",
    "s6 glu, blood sugar level\n",
    "'''"
   ]
  },
  {
   "cell_type": "code",
   "execution_count": 16,
   "id": "c9316711-f20c-4448-add3-f9e62b94d9fa",
   "metadata": {},
   "outputs": [],
   "source": [
    "#zad8\n",
    "from sklearn.model_selection import train_test_split\n",
    "train_data, test_data = train_test_split(df2, test_size=0.3, random_state=42)\n"
   ]
  },
  {
   "cell_type": "code",
   "execution_count": 17,
   "id": "0b4dd106-b477-46a4-9ff2-8bf9ce6be0b9",
   "metadata": {},
   "outputs": [
    {
     "data": {
      "image/png": "[encoded data removed]",
      "text/plain": [
       "<Figure size 1200x600 with 2 Axes>"
      ]
     },
     "metadata": {},
     "output_type": "display_data"
    }
   ],
   "source": [
    "#zad9\n",
    "#binary_class_sample, binary_class_label\n",
    "binary_train_data, binary_val_data, binary_train_target, binary_val_target = train_test_split(\n",
    "    binary_class_sample, binary_class_label, test_size=0.5, stratify=binary_class_label, random_state=42\n",
    ")\n",
    "\n",
    "fig, axs = plt.subplots(1, 2, figsize=(12, 6))\n",
    "axs[0].hist(binary_train_target, bins=2, color='blue', edgecolor='black', align='left')\n",
    "axs[0].set_title(\"Histogram klas - zbiór treningowy\")\n",
    "axs[0].set_xlabel(\"Klasa\")\n",
    "axs[0].set_ylabel(\"Liczba przypadków\")\n",
    "\n",
    "axs[1].hist(binary_val_target, bins=2, color='red', edgecolor='black', align='left')\n",
    "axs[1].set_title(\"Histogram klas - zbiór walidacyjny\")\n",
    "axs[1].set_xlabel(\"Klasa\")\n",
    "axs[1].set_ylabel(\"Liczba przypadków\")\n",
    "\n",
    "plt.tight_layout()\n",
    "plt.show()"
   ]
  },
  {
   "cell_type": "code",
   "execution_count": 18,
   "id": "995aa812-cde4-49fb-87b5-ba259745b0b0",
   "metadata": {},
   "outputs": [
    {
     "data": {
      "text/plain": [
       "((250, 5), (250, 5), array([126, 124]), array([126, 124]))"
      ]
     },
     "execution_count": 18,
     "metadata": {},
     "output_type": "execute_result"
    }
   ],
   "source": [
    "import numpy as np\n",
    "(binary_train_data.shape, binary_val_data.shape, \n",
    " np.bincount(binary_train_target), np.bincount(binary_val_target))"
   ]
  },
  {
   "cell_type": "code",
   "execution_count": 23,
   "id": "350842f6-8e2b-4f81-afc1-a846a779570f",
   "metadata": {},
   "outputs": [
    {
     "data": {
      "image/png": "[encoded data removed]",
      "text/plain": [
       "<Figure size 1200x600 with 2 Axes>"
      ]
     },
     "metadata": {},
     "output_type": "display_data"
    },
    {
     "data": {
      "text/plain": [
       "(500, 100)"
      ]
     },
     "execution_count": 23,
     "metadata": {},
     "output_type": "execute_result"
    }
   ],
   "source": [
    "#zad10\n",
    "#reg_data_600, reg_target_600\n",
    "\n",
    "# Binning zmiennej modelowanej (tworzenie grup do stratyfikacji)\n",
    "pd.qcut(reg_target_600, q=10, duplicates='drop')\n",
    "\n",
    "reg_data_600_train_data, reg_data_600_val_data, reg_data_600_train_target, reg_data_600_val_target = train_test_split(\n",
    "    reg_data_600, reg_target_600, test_size=100, stratify=target_binned, random_state=42\n",
    ")\n",
    "\n",
    "# Rysowanie histogramów dla zmiennej modelowanej w obu podzbiorach\n",
    "fig, axs = plt.subplots(1, 2, figsize=(12, 6))\n",
    "\n",
    "# Histogram dla zbioru treningowego\n",
    "axs[0].hist(reg_data_600_train_target, bins=20, color='blue', edgecolor='black', alpha=0.7)\n",
    "axs[0].set_title(\"Histogram zmiennej modelowanej - zbiór treningowy\")\n",
    "axs[0].set_xlabel(\"Wartość zmiennej modelowanej\")\n",
    "axs[0].set_ylabel(\"Częstość\")\n",
    "\n",
    "# Histogram dla zbioru walidacyjnego\n",
    "axs[1].hist(reg_data_600_val_target, bins=20, color='orange', edgecolor='black', alpha=0.7)\n",
    "axs[1].set_title(\"Histogram zmiennej modelowanej - zbiór walidacyjny\")\n",
    "axs[1].set_xlabel(\"Wartość zmiennej modelowanej\")\n",
    "axs[1].set_ylabel(\"Częstość\")\n",
    "\n",
    "plt.tight_layout()\n",
    "plt.show()\n",
    "\n",
    "# Rozmiar podzbiorów\n",
    "len(reg_data_600_train_target), len(reg_data_600_val_target)"
   ]
  },
  {
   "cell_type": "code",
   "execution_count": null,
   "id": "a139e69d-6a8e-471f-917c-4b665c4d7221",
   "metadata": {},
   "outputs": [],
   "source": []
  }
 ],
 "metadata": {
  "kernelspec": {
   "display_name": "Python 3 (ipykernel)",
   "language": "python",
   "name": "python3"
  },
  "language_info": {
   "codemirror_mode": {
    "name": "ipython",
    "version": 3
   },
   "file_extension": ".py",
   "mimetype": "text/x-python",
   "name": "python",
   "nbconvert_exporter": "python",
   "pygments_lexer": "ipython3",
   "version": "3.9.20"
  }
 },
 "nbformat": 4,
 "nbformat_minor": 5
}
