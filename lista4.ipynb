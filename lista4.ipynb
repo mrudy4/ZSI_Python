{
 "cells": [
  {
   "cell_type": "code",
   "execution_count": 1,
   "id": "908dce96-3e10-4496-84b6-09cbf36da169",
   "metadata": {},
   "outputs": [],
   "source": [
    "from sklearn.datasets import load_iris\n",
    "import pandas as pd\n",
    "import matplotlib.pyplot as plt\n",
    "from sklearn.neighbors import KNeighborsRegressor\n",
    "from sklearn.model_selection import train_test_split\n",
    "from sklearn.metrics import mean_absolute_error\n",
    "from sklearn.metrics import accuracy_score\n",
    "from sklearn.metrics import r2_score\n",
    "from sklearn.metrics import confusion_matrix\n",
    "from sklearn.metrics import recall_score\n",
    "from sklearn.metrics import classification_report, precision_score\n",
    "from sklearn.neighbors import KNeighborsClassifier\n",
    "from sklearn.metrics import mean_squared_error\n",
    "from sklearn.metrics import root_mean_squared_error\n",
    "from sklearn.metrics import mean_absolute_percentage_error\n",
    "from sklearn.metrics import f1_score"
   ]
  },
  {
   "cell_type": "code",
   "execution_count": null,
   "id": "7cd0e7aa-2a5e-4b4c-8a5f-a5a776c07a27",
   "metadata": {},
   "outputs": [],
   "source": [
    "iris = load_iris()\n",
    "X = iris.data[:, :]\n",
    "y = iris.target\n",
    "\n",
    "df2 = pd.DataFrame(data=iris.data, columns=iris.feature_names)\n",
    "len(y)"
   ]
  },
  {
   "cell_type": "code",
   "execution_count": null,
   "id": "cf945186-e6e3-442c-a528-1b513d24f4cf",
   "metadata": {},
   "outputs": [],
   "source": [
    "X_train, X_validation, y_train, y_validation = train_test_split(X, y, train_size=0.6)"
   ]
  },
  {
   "cell_type": "code",
   "execution_count": null,
   "id": "73f9eeb4-0c4a-43ef-b004-9b03fbdb0440",
   "metadata": {},
   "outputs": [],
   "source": [
    "kn = KNeighborsRegressor(n_neighbors=2)\n",
    "kn.fit(X_train, y_train)"
   ]
  },
  {
   "cell_type": "code",
   "execution_count": null,
   "id": "f5cccbe9-dce7-4374-b80b-2a44b9bbdcdf",
   "metadata": {},
   "outputs": [],
   "source": [
    "y_prediction_train = kn.predict(X_train)\n",
    "y_prediction_val = kn.predict(X_validation)"
   ]
  },
  {
   "cell_type": "code",
   "execution_count": null,
   "id": "75a699dc-9d04-4345-a4fc-153ff096f45f",
   "metadata": {},
   "outputs": [],
   "source": [
    "print(y_prediction_train[:15])\n",
    "print(y_prediction_val[:15])"
   ]
  },
  {
   "cell_type": "code",
   "execution_count": null,
   "id": "60f90d66-c6f4-49f6-bd1d-c6eae4dc4d18",
   "metadata": {},
   "outputs": [],
   "source": [
    "print(y_validation[:15])"
   ]
  },
  {
   "cell_type": "code",
   "execution_count": null,
   "id": "359bcf88-9267-4f92-9c97-7dc615e7538b",
   "metadata": {},
   "outputs": [],
   "source": [
    "#Regression -> accuracy_score is not going to work\n",
    "#accuracy_score(y_validation[:15], y_prediction[:15], normalize=True)\n",
    "\n",
    "print(\"MAE train: \",mean_absolute_error(y_train, y_prediction_train).round(4))\n",
    "\n",
    "print(\"R2_Score train : \",r2_score(y_train, y_prediction_train))\n",
    "\n",
    "print(\"MAE valid: \",mean_absolute_error(y_validation, y_prediction_val).round(4))\n",
    "\n",
    "print(\"R2_Score valid : \",r2_score(y_validation, y_prediction_val))"
   ]
  },
  {
   "cell_type": "code",
   "execution_count": null,
   "id": "ffe1168e-7501-4c98-9489-1aaf753930d5",
   "metadata": {},
   "outputs": [],
   "source": [
    "#CLASSIFICATION ZAD2\n",
    "#from sklearn.neighbors import KNeighborsClassifier\n",
    "#from sklearn.metrics import classification_report, precision_score\n",
    "model = KNeighborsClassifier(n_neighbors=2)\n",
    "model.fit(X_train, y_train)\n",
    "# Dokonanie predykcji na zbiorze treningowym i walidacyjnym\n",
    "y_train_pred = model.predict(X_train)\n",
    "y_val_pred = model.predict(X_validation)\n",
    "    \n",
    "# Wyznaczenie dokładności i precyzji dla obu zbiorów\n",
    "train_accuracy = accuracy_score(y_train, y_train_pred)\n",
    "val_accuracy = accuracy_score(y_validation, y_val_pred)\n",
    "\n",
    "train_precision = precision_score(y_train, y_train_pred, average='macro')\n",
    "val_precision = precision_score(y_validation, y_val_pred, average='macro')\n",
    "\n",
    "# Wyświetlenie wyników\n",
    "print(\"Wyniki dla zbioru treningowego:\")\n",
    "print(f\"  Dokładność: {train_accuracy:.3f}\")\n",
    "print(f\"  Precyzja: {train_precision:.3f}\")\n",
    "\n",
    "print(\"\\nWyniki dla zbioru walidacyjnego:\")\n",
    "print(f\"  Dokładność: {val_accuracy:.3f}\")\n",
    "print(f\"  Precyzja: {val_precision:.3f}\")\n",
    "\n",
    "# Dodatkowy raport klasyfikacji dla walidacji\n",
    "print(\"\\nRaport klasyfikacji dla zbioru walidacyjnego:\")\n",
    "print(classification_report(y_validation, y_val_pred, target_names=iris.target_names))\n",
    "\n",
    "print(\"F1 score: \", f1_score(y_validation, y_val_pred, average='macro'))"
   ]
  },
  {
   "cell_type": "code",
   "execution_count": null,
   "id": "8d44fea3-a497-4f55-af83-c6d7889dd700",
   "metadata": {},
   "outputs": [],
   "source": [
    "#from sklearn.metrics import recall_score\n",
    "recall = recall_score(y_validation, y_val_pred, average='macro')\n",
    "print(\"Classification sensivity: \",recall)"
   ]
  },
  {
   "cell_type": "code",
   "execution_count": null,
   "id": "c9d4facf-4fdd-4f95-b7c1-039c7da79fcc",
   "metadata": {},
   "outputs": [],
   "source": [
    "#from sklearn.metrics import confusion_matrix\n",
    "confusion_matrix(y_validation, y_val_pred)"
   ]
  },
  {
   "cell_type": "markdown",
   "id": "1f908a1f-bd4e-4b75-b812-ecf884f65141",
   "metadata": {},
   "source": [
    "Wiersze odpowiadają rzeczywistym klasom.\n",
    "Kolumny odpowiadają klasom przewidywanym.\n",
    "Liczba w pozycji (i, j) oznacza liczbę przypadków rzeczywistej klasy i, które zostały zaklasyfikowane jako klasa j."
   ]
  },
  {
   "cell_type": "code",
   "execution_count": null,
   "id": "99be9377-002f-473d-a2c5-83addaf8a92a",
   "metadata": {},
   "outputs": [],
   "source": [
    "from sklearn.datasets import load_diabetes\n",
    "diabetes = load_diabetes(as_frame=True)\n",
    "df1 = pd.DataFrame(data=diabetes.data, columns=diabetes.feature_names)\n",
    "diabetes_250 = df1.sample(250, random_state=42)\n",
    "diabetes_250 = diabetes_250.reset_index(drop=True)\n",
    "diabetes_rest = df1.drop(index=diabetes_250.index)\n",
    "diabetes_rest = diabetes_rest.reset_index(drop=True)\n",
    "\n",
    "X = diabetes_250\n",
    "y = diabetes.target.sample(250, random_state=42)\n",
    "\n",
    "X_train, X_validation, y_train, y_validation = train_test_split(X, y, train_size=0.6)\n",
    "\n",
    "kn = KNeighborsRegressor(n_neighbors=2)\n",
    "kn.fit(X_train, y_train)\n",
    "\n",
    "y_prediction_train = kn.predict(X_train)\n",
    "y_prediction_val = kn.predict(X_validation)\n",
    "\n",
    "print(y_prediction_train[:10])\n",
    "print(y_prediction_val[:10])\n",
    "\n",
    "print(\"MAE train: \",mean_absolute_error(y_train, y_prediction_train).round(4))\n",
    "\n",
    "print(\"R2_Score = coefficient determination train : \",r2_score(y_train, y_prediction_train))\n",
    "\n",
    "print(\"MAE valid: \",mean_absolute_error(y_validation, y_prediction_val).round(4))\n",
    "\n",
    "print(\"R2_Score = coefficient determination valid : \",r2_score(y_validation, y_prediction_val))"
   ]
  },
  {
   "cell_type": "code",
   "execution_count": null,
   "id": "f95caaa8-a99a-4c26-870c-1c38eb34f0ea",
   "metadata": {},
   "outputs": [],
   "source": [
    "print(\"MSE: \", mean_squared_error(y_validation, y_prediction_val))\n",
    "\n",
    "print(\"RMSE: \", root_mean_squared_error(y_validation, y_prediction_val))\n",
    "\n",
    "print(\"MAPE: \", mean_absolute_percentage_error(y_validation, y_prediction_val))\n",
    "\n",
    "print(\"R2_Score = coefficient determination : \",r2_score(y_validation, y_prediction_val))"
   ]
  },
  {
   "cell_type": "code",
   "execution_count": null,
   "id": "48fe6158-b183-443c-af09-dadaacc82037",
   "metadata": {},
   "outputs": [],
   "source": []
  }
 ],
 "metadata": {
  "kernelspec": {
   "display_name": "Python 3 (ipykernel)",
   "language": "python",
   "name": "python3"
  },
  "language_info": {
   "codemirror_mode": {
    "name": "ipython",
    "version": 3
   },
   "file_extension": ".py",
   "mimetype": "text/x-python",
   "name": "python",
   "nbconvert_exporter": "python",
   "pygments_lexer": "ipython3",
   "version": "3.9.20"
  }
 },
 "nbformat": 4,
 "nbformat_minor": 5
}
