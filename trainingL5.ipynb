{
 "cells": [
  {
   "cell_type": "code",
   "execution_count": 1,
   "id": "6309b505-c5f9-4e47-823c-310f6428d05f",
   "metadata": {},
   "outputs": [],
   "source": [
    "from sklearn.datasets import load_iris\n",
    "from sklearn.model_selection import GridSearchCV, cross_validate\n",
    "from sklearn.neighbors import KNeighborsClassifier\n",
    "from sklearn.metrics import make_scorer, f1_score, recall_score\n",
    "import time"
   ]
  },
  {
   "cell_type": "code",
   "execution_count": 2,
   "id": "247440e6-ee11-4f9e-9189-9719244f7268",
   "metadata": {},
   "outputs": [],
   "source": [
    "iris = load_iris()\n",
    "X = iris.data\n",
    "y = iris.target\n",
    "kn = KNeighborsClassifier(n_neighbors = 3)"
   ]
  },
  {
   "cell_type": "code",
   "execution_count": null,
   "id": "3b264296-a362-4174-bebc-814101bcc71c",
   "metadata": {},
   "outputs": [],
   "source": [
    "scoring = {\n",
    "    'F1_score': make_scorer(f1_score, average = \"weighted\"),\n",
    "    'Recall_score': make_scorer(recall_score, average = \"weighted\")\n",
    "}\n",
    "\n",
    "cv = cross_validate(kn, X, y, scoring = scoring, n_jobs = 4, verbose = 5)"
   ]
  },
  {
   "cell_type": "code",
   "execution_count": null,
   "id": "a5149bbd-4198-4286-ace9-45d22f025520",
   "metadata": {},
   "outputs": [],
   "source": [
    "print(cv)"
   ]
  },
  {
   "cell_type": "code",
   "execution_count": null,
   "id": "e4e92432-c814-41d8-a253-cab1a2646e7d",
   "metadata": {},
   "outputs": [],
   "source": [
    "# Wyświetlanie wyników dla każdego podzbioru w bardziej kompaktowy sposób\n",
    "for metric in [key for key in cv.keys() if key.startswith(\"test_\")]:\n",
    "    print(f\"{metric}: {cv[metric]}\")\n",
    "\n"
   ]
  },
  {
   "cell_type": "code",
   "execution_count": null,
   "id": "b6b7e13a-31d4-4b36-9923-22b079c45aad",
   "metadata": {},
   "outputs": [],
   "source": [
    "print(\"Mean value of f1_score: \", cv[\"test_F1_score\"].mean())"
   ]
  },
  {
   "cell_type": "code",
   "execution_count": null,
   "id": "75e6a1c5-e111-4d85-8f4b-0daebb0a62a9",
   "metadata": {},
   "outputs": [],
   "source": [
    "for i in cv[\"test_Recall_score\"]:\n",
    "    print(\"test_Recall_score: \", i)"
   ]
  },
  {
   "cell_type": "code",
   "execution_count": null,
   "id": "1dad7e07-0b92-43ec-a493-5ef4df7c8745",
   "metadata": {},
   "outputs": [],
   "source": [
    "cv2 = cross_validate(kn, X, y, n_jobs = 4, cv = 10, scoring = scoring, verbose = 5)"
   ]
  },
  {
   "cell_type": "code",
   "execution_count": null,
   "id": "bd32f854-2f70-40c1-86b4-a0717e640ec9",
   "metadata": {},
   "outputs": [],
   "source": [
    "for metric in [key for key in cv2.keys() if key.startswith(\"test_\")]:\n",
    "    print(f\"{metric}: {cv2[metric]}\")"
   ]
  },
  {
   "cell_type": "code",
   "execution_count": null,
   "id": "f0adfcbe-c2f9-4caf-8355-d13af749239e",
   "metadata": {},
   "outputs": [],
   "source": [
    "print(\"Mean value of f1_score: \", cv2[\"test_F1_score\"].mean())"
   ]
  },
  {
   "cell_type": "code",
   "execution_count": 3,
   "id": "b2384805-1ce5-4388-b02b-f98487eeb975",
   "metadata": {},
   "outputs": [],
   "source": [
    "from sklearn.model_selection import GridSearchCV\n",
    "from sklearn.ensemble import RandomForestClassifier\n",
    "from sklearn.metrics import precision_score\n",
    "from sklearn.model_selection import cross_val_score\n"
   ]
  },
  {
   "cell_type": "code",
   "execution_count": 4,
   "id": "02bf752d-a655-4f32-8e12-5df3e8c62394",
   "metadata": {},
   "outputs": [
    {
     "name": "stderr",
     "output_type": "stream",
     "text": [
      "/home/maciejrudy/conda/envs/pandas130/lib/python3.9/site-packages/numpy/ma/core.py:2820: RuntimeWarning: invalid value encountered in cast\n",
      "  _data = np.array(data, dtype=dtype, copy=copy,\n"
     ]
    }
   ],
   "source": [
    "parameters = {\n",
    "    'max_depth': [1, 2, 4, 8, 16, 32, 64],\n",
    "    'n_estimators': list(range(1, 26, 1))\n",
    "}\n",
    "scoring2 = {\n",
    "    'f1_score': make_scorer(f1_score, average = \"weighted\"),\n",
    "    'precision_score': make_scorer(f1_score, average = \"weighted\")\n",
    "}\n",
    "startT = time.time()\n",
    "rf = RandomForestClassifier(random_state = 42)\n",
    "gs = GridSearchCV(rf, parameters, scoring = scoring2, cv = 5, refit = 'precision_score')\n",
    "model = gs.fit(X,y)\n",
    "endT = time.time()\n",
    "TimeSpent = endT - startT"
   ]
  },
  {
   "cell_type": "code",
   "execution_count": 32,
   "id": "222c13bd-4689-457e-bef1-7d3ce6636119",
   "metadata": {},
   "outputs": [
    {
     "data": {
      "text/plain": [
       "array([0.52324126, 0.79072691, 0.96617289, 0.96617289, 0.95979849,\n",
       "       0.96648186, 0.96648186, 0.9598319 , 0.93927394, 0.966092  ,\n",
       "       0.96648186, 0.96648186, 0.96648186, 0.96648186, 0.96648186,\n",
       "       0.96648186, 0.96648186, 0.9598319 , 0.9598319 , 0.9598319 ,\n",
       "       0.9598319 , 0.9598319 , 0.9598319 , 0.9598319 , 0.9598319 ,\n",
       "       0.95280614, 0.95993317, 0.95979849, 0.95979849, 0.95311511,\n",
       "       0.94646515, 0.95311511, 0.94646515, 0.95311511, 0.95311511,\n",
       "       0.95311511, 0.95311511, 0.95311511, 0.95311511, 0.95311511,\n",
       "       0.95311511, 0.95311511, 0.95311511, 0.95311511, 0.95969722,\n",
       "       0.95969722, 0.95304726, 0.95304726, 0.95304726, 0.94646515,\n",
       "       0.95291258, 0.94649857, 0.96617289, 0.95301385, 0.95948952,\n",
       "       0.95948952, 0.95948952, 0.95948952, 0.9598319 , 0.95324979,\n",
       "       0.95324979, 0.95324979, 0.95324979, 0.95324979, 0.95324979,\n",
       "       0.95324979, 0.95311511, 0.9598319 , 0.9598319 , 0.9598319 ,\n",
       "       0.9598319 , 0.9598319 , 0.96648186, 0.96648186, 0.96648186,\n",
       "       0.95291258, 0.94649857, 0.95938825, 0.94622921, 0.95948952,\n",
       "       0.95948952, 0.95948952, 0.96648186, 0.96648186, 0.96648186,\n",
       "       0.96648186, 0.95311511, 0.9598319 , 0.9598319 , 0.9598319 ,\n",
       "       0.95311511, 0.9598319 , 0.9598319 , 0.9598319 , 0.9598319 ,\n",
       "       0.96648186, 0.96648186, 0.96648186, 0.96648186, 0.96648186,\n",
       "       0.95291258, 0.94649857, 0.95938825, 0.94622921, 0.95948952,\n",
       "       0.95948952, 0.95948952, 0.96648186, 0.96648186, 0.96648186,\n",
       "       0.96648186, 0.95311511, 0.9598319 , 0.9598319 , 0.9598319 ,\n",
       "       0.95311511, 0.9598319 , 0.9598319 , 0.9598319 , 0.9598319 ,\n",
       "       0.96648186, 0.96648186, 0.96648186, 0.96648186, 0.96648186,\n",
       "       0.95291258, 0.94649857, 0.95938825, 0.94622921, 0.95948952,\n",
       "       0.95948952, 0.95948952, 0.96648186, 0.96648186, 0.96648186,\n",
       "       0.96648186, 0.95311511, 0.9598319 , 0.9598319 , 0.9598319 ,\n",
       "       0.95311511, 0.9598319 , 0.9598319 , 0.9598319 , 0.9598319 ,\n",
       "       0.96648186, 0.96648186, 0.96648186, 0.96648186, 0.96648186,\n",
       "       0.95291258, 0.94649857, 0.95938825, 0.94622921, 0.95948952,\n",
       "       0.95948952, 0.95948952, 0.96648186, 0.96648186, 0.96648186,\n",
       "       0.96648186, 0.95311511, 0.9598319 , 0.9598319 , 0.9598319 ,\n",
       "       0.95311511, 0.9598319 , 0.9598319 , 0.9598319 , 0.9598319 ,\n",
       "       0.96648186, 0.96648186, 0.96648186, 0.96648186, 0.96648186])"
      ]
     },
     "execution_count": 32,
     "metadata": {},
     "output_type": "execute_result"
    }
   ],
   "source": [
    "model.cv_results_[\"mean_test_f1_score\"]\n"
   ]
  },
  {
   "cell_type": "code",
   "execution_count": 8,
   "id": "778232ae-5142-46da-8313-e915f240e212",
   "metadata": {},
   "outputs": [],
   "source": [
    "startT2 = time.time()\n",
    "cv = cross_validate(rf, X, y, scoring = scoring2, cv = 10)\n",
    "endT2 = time.time()\n",
    "TimeSpent2 = endT - startT"
   ]
  },
  {
   "cell_type": "code",
   "execution_count": 19,
   "id": "10c26165-40a5-44ad-890d-986a2a284f62",
   "metadata": {},
   "outputs": [
    {
     "name": "stdout",
     "output_type": "stream",
     "text": [
      "Time spent on GridSearch:  26.62301468849182 s\n",
      "Model precision score from GridSearch:  0.9664818612187034\n",
      "Time spent on cross validation with 10 subsets:  26.62301468849182 s\n",
      "Mean precision score from cross validation with 10 subsets:  0.9595959595959596\n"
     ]
    }
   ],
   "source": [
    "print(\"Time spent on GridSearch: \", TimeSpent, \"s\")\n",
    "print(\"Model precision score from GridSearch: \", model.best_score_)\n",
    "print(\"Time spent on cross validation with 10 subsets: \", TimeSpent2, \"s\")\n",
    "print(\"Mean precision score from cross validation with 10 subsets: \", cv[\"test_precision_score\"].mean())"
   ]
  },
  {
   "cell_type": "code",
   "execution_count": 28,
   "id": "35d092f3-4ffa-4f1c-8117-dc8ad8b60285",
   "metadata": {},
   "outputs": [
    {
     "data": {
      "text/plain": [
       "make_scorer(f1_score, response_method='predict', average=weighted)"
      ]
     },
     "execution_count": 28,
     "metadata": {},
     "output_type": "execute_result"
    }
   ],
   "source": [
    "model.scoring[\"precision_score\"]"
   ]
  },
  {
   "cell_type": "code",
   "execution_count": null,
   "id": "cdebfe96-d5ba-4a7e-ae11-0682dcec5093",
   "metadata": {},
   "outputs": [],
   "source": [
    "print(\"Mean f1 score: \", model.cv_results_[\"mean_test_f1_score\"].mean())\n",
    "print(\"Time spent on fitting: \", TimeSpent, \"s\")"
   ]
  },
  {
   "cell_type": "code",
   "execution_count": null,
   "id": "b81c57c2-b7ed-4def-a5f7-ccea6a3de608",
   "metadata": {},
   "outputs": [],
   "source": [
    "model.best_params_"
   ]
  },
  {
   "cell_type": "code",
   "execution_count": null,
   "id": "022adbff-fe6c-462c-a4b4-d99c4240d9c3",
   "metadata": {},
   "outputs": [],
   "source": [
    "model.cv_results_[\"mean_test_f1_score\"]\n",
    "\n",
    "for f1 in [key for key in model.cv_results_[\"mean_test_f1_score\"]:\n",
    "    print(f1)"
   ]
  },
  {
   "cell_type": "code",
   "execution_count": null,
   "id": "41d83b95-bf48-426b-b1aa-bd1fcfeba51b",
   "metadata": {},
   "outputs": [],
   "source": [
    "model.cv_results_[\"mean_test_f1_score\"].shape"
   ]
  },
  {
   "cell_type": "code",
   "execution_count": null,
   "id": "2a51099f-7c49-4003-aa8c-ed2d661de75a",
   "metadata": {},
   "outputs": [],
   "source": [
    "from sklearn.datasets import load_diabetes\n",
    "from sklearn.model_selection import RandomizedSearchCV\n",
    "from sklearn.metrics import r2_score, mean_absolute_error\n",
    "from sklearn.ensemble import RandomForestRegressor\n",
    "\n",
    "parameters4 = {\n",
    "    'max_depth': [1,2,4,8,16,32,64,128,512,1024],\n",
    "    'n_estimators': list(range(3,82,3))\n",
    "}\n",
    "scoring4 = {\n",
    "    'R2': make_scorer(r2_score),\n",
    "    'MAE': make_scorer(mean_absolute_error),\n",
    "    'precision': make_scorer(precision_score, average = \"weighted\")\n",
    "}\n",
    "\n",
    "start4 = time.time()\n",
    "rf4 = RandomForestClassifier(random_state = 42)\n",
    "\n",
    "rs = RandomizedSearchCV(rf4, parameters4, refit = 'precision', n_iter = 100, scoring = scoring4, cv = 5)\n",
    "model = rs.fit(X,y)\n",
    "end4 = time.time()\n",
    "time4 = end4 - start4"
   ]
  },
  {
   "cell_type": "code",
   "execution_count": null,
   "id": "8ff48f61-7914-4c08-a4c0-2a720c75270c",
   "metadata": {},
   "outputs": [],
   "source": [
    "print(\"Time spent: \", time4)\n",
    "print(\"Best parameters: \", model.best_params_)\n"
   ]
  },
  {
   "cell_type": "code",
   "execution_count": null,
   "id": "46ea2a3c-fea4-4ff6-823f-7a8df0578917",
   "metadata": {},
   "outputs": [],
   "source": [
    "print(\"mean R2 score: \", model.cv_results_[\"mean_test_R2\"].mean())"
   ]
  },
  {
   "cell_type": "code",
   "execution_count": null,
   "id": "9bf60afb-1b19-4a29-9688-44a687f9fe79",
   "metadata": {},
   "outputs": [],
   "source": [
    "model.cv_results_[\"split0_test_R2\"]\n",
    "\n",
    "for i in range(5):\n",
    "    column = f\"split{i}_test_R2\"\n",
    "    print(f\"Values for every subset: {model.cv_results_[column]}\")"
   ]
  },
  {
   "cell_type": "code",
   "execution_count": null,
   "id": "c1847671-ddac-4505-8212-cccde1c7e0a8",
   "metadata": {},
   "outputs": [],
   "source": [
    "# Wyświetlanie R2_score dla każdego podzbioru\n",
    "for split in range(5):  # Zakładamy 5 podziałów (cv=5)\n",
    "    column_name = f\"split{split}_test_r2_score\"\n",
    "    print(f\"R2-score dla podzbioru {split + 1}: {model.cv_results_[column_name]}\")\n"
   ]
  },
  {
   "cell_type": "code",
   "execution_count": null,
   "id": "14f38d5f-6322-4e8a-8c8d-f56ee8478c90",
   "metadata": {},
   "outputs": [],
   "source": []
  },
  {
   "cell_type": "code",
   "execution_count": null,
   "id": "572d8574-289b-4881-9da6-067aa947fadc",
   "metadata": {},
   "outputs": [],
   "source": []
  },
  {
   "cell_type": "code",
   "execution_count": null,
   "id": "6813b384-f915-44c1-b0fc-078e70860e6d",
   "metadata": {},
   "outputs": [],
   "source": []
  }
 ],
 "metadata": {
  "kernelspec": {
   "display_name": "Python 3 (ipykernel)",
   "language": "python",
   "name": "python3"
  },
  "language_info": {
   "codemirror_mode": {
    "name": "ipython",
    "version": 3
   },
   "file_extension": ".py",
   "mimetype": "text/x-python",
   "name": "python",
   "nbconvert_exporter": "python",
   "pygments_lexer": "ipython3",
   "version": "3.9.20"
  }
 },
 "nbformat": 4,
 "nbformat_minor": 5
}
